{
 "cells": [
  {
   "cell_type": "code",
   "execution_count": 175,
   "id": "7f741a22",
   "metadata": {},
   "outputs": [],
   "source": [
    "import pandas as pd\n",
    "import numpy as np\n",
    "pd.set_option('display.max_colwidth', None)\n",
    "pd.set_option('display.max_columns', None) "
   ]
  },
  {
   "cell_type": "code",
   "execution_count": 176,
   "id": "1d503917",
   "metadata": {},
   "outputs": [],
   "source": [
    "file_path = \"TushyCartonisationAnalysis_recreate.xlsx\"\n",
    "excel_sheets = pd.ExcelFile(file_path).sheet_names"
   ]
  },
  {
   "cell_type": "code",
   "execution_count": 177,
   "id": "bc95880c",
   "metadata": {},
   "outputs": [],
   "source": [
    "invoice_df = pd.read_excel(file_path, sheet_name='Raw Baja Invoices')\n",
    "\n",
    "invoice_df['Charge'] = invoice_df['Charge'].str.upper()\n",
    "invoice_df_drop_columns = ['Reference','Entry Date', 'Entry Number', 'Customs Value Currency']\n",
    "invoice_df.drop(columns=invoice_df_drop_columns,axis=1,inplace=True)\n",
    "invoice_df['id'] = range(1, len(invoice_df) + 1)\n",
    "\n",
    "invoice_df_data_types = {\"Order Number\":\"str\"}\n",
    "invoice_df = invoice_df.astype(invoice_df_data_types)"
   ]
  },
  {
   "cell_type": "code",
   "execution_count": 178,
   "id": "c99180e3",
   "metadata": {},
   "outputs": [],
   "source": [
    "charge_df = pd.read_excel(file_path, sheet_name='Charge Map')\n",
    "charge_df['Charge'] = charge_df['Charge'].str.upper()\n",
    "charge_map_df = charge_df[[\"Charge\",\"Map\"]]"
   ]
  },
  {
   "cell_type": "code",
   "execution_count": 179,
   "id": "a0f644a0",
   "metadata": {},
   "outputs": [],
   "source": [
    "invoice_charge_df = invoice_df.merge(charge_map_df, on='Charge', how='inner')"
   ]
  },
  {
   "cell_type": "code",
   "execution_count": 180,
   "id": "96a1524c",
   "metadata": {},
   "outputs": [
    {
     "data": {
      "text/plain": [
       "array(['Freight', 'Fuel', 'Residential', 'Surcharge', 'Freight Adj',\n",
       "       'Fuel Adj', 'Surcharge Adj', 'Duties/Tax'], dtype=object)"
      ]
     },
     "execution_count": 180,
     "metadata": {},
     "output_type": "execute_result"
    }
   ],
   "source": [
    "#missing Charge \"Return To Sender - Web Request\" and map \"Returns\"\n",
    "invoice_charge_df[\"Map\"].unique()"
   ]
  },
  {
   "cell_type": "code",
   "execution_count": 181,
   "id": "181b6338",
   "metadata": {},
   "outputs": [],
   "source": [
    "invoice_Flatten = invoice_charge_df.copy()\n",
    "unique_maps = invoice_Flatten['Map'].unique()\n",
    "for map_value in unique_maps:\n",
    "    invoice_Flatten[map_value] = invoice_Flatten.apply(\n",
    "        lambda row: row['Bill Amount'] if row['Map'] == map_value else 0, axis=1\n",
    "    )"
   ]
  },
  {
   "cell_type": "code",
   "execution_count": 182,
   "id": "b16e9bcc",
   "metadata": {},
   "outputs": [
    {
     "data": {
      "text/html": [
       "<div>\n",
       "<style scoped>\n",
       "    .dataframe tbody tr th:only-of-type {\n",
       "        vertical-align: middle;\n",
       "    }\n",
       "\n",
       "    .dataframe tbody tr th {\n",
       "        vertical-align: top;\n",
       "    }\n",
       "\n",
       "    .dataframe thead th {\n",
       "        text-align: right;\n",
       "    }\n",
       "</style>\n",
       "<table border=\"1\" class=\"dataframe\">\n",
       "  <thead>\n",
       "    <tr style=\"text-align: right;\">\n",
       "      <th></th>\n",
       "      <th>Invoice</th>\n",
       "      <th>Invoice Date</th>\n",
       "      <th>Order ID</th>\n",
       "      <th>Order Number</th>\n",
       "      <th>Profile</th>\n",
       "      <th>Carrier</th>\n",
       "      <th>Transaction Date</th>\n",
       "      <th>Tracking Number</th>\n",
       "      <th>Service Type</th>\n",
       "      <th>Charge</th>\n",
       "      <th>Package Quantity</th>\n",
       "      <th>Packaging Type</th>\n",
       "      <th>Entered Weight (LB)</th>\n",
       "      <th>Billed Weight (LB)</th>\n",
       "      <th>Dim Length</th>\n",
       "      <th>Dim Width</th>\n",
       "      <th>Dim Height</th>\n",
       "      <th>Zone</th>\n",
       "      <th>Origin State</th>\n",
       "      <th>Origin Country</th>\n",
       "      <th>Receiver Name</th>\n",
       "      <th>Receiver Company</th>\n",
       "      <th>Receiver Address Line 1</th>\n",
       "      <th>Receiver Address Line 2</th>\n",
       "      <th>Receiver City</th>\n",
       "      <th>Receiver State</th>\n",
       "      <th>Receiver Zip</th>\n",
       "      <th>Receiver Country</th>\n",
       "      <th>Customs Value</th>\n",
       "      <th>Duty &amp; Taxes</th>\n",
       "      <th>Bill Amount</th>\n",
       "      <th>id</th>\n",
       "      <th>Map</th>\n",
       "      <th>Freight</th>\n",
       "      <th>Fuel</th>\n",
       "      <th>Residential</th>\n",
       "      <th>Surcharge</th>\n",
       "      <th>Freight Adj</th>\n",
       "      <th>Fuel Adj</th>\n",
       "      <th>Surcharge Adj</th>\n",
       "      <th>Duties/Tax</th>\n",
       "    </tr>\n",
       "  </thead>\n",
       "  <tbody>\n",
       "    <tr>\n",
       "      <th>0</th>\n",
       "      <td>33477</td>\n",
       "      <td>2025-03-20</td>\n",
       "      <td>576899052</td>\n",
       "      <td>#1442861</td>\n",
       "      <td>default</td>\n",
       "      <td>UPS</td>\n",
       "      <td>45699</td>\n",
       "      <td>1ZAC8375YW34252402</td>\n",
       "      <td>UPS SurePost - 1 lb or Greater</td>\n",
       "      <td>TRANSPORTATION</td>\n",
       "      <td>1.0</td>\n",
       "      <td>PKG</td>\n",
       "      <td>4.1</td>\n",
       "      <td>5.0</td>\n",
       "      <td>19.0</td>\n",
       "      <td>9.0</td>\n",
       "      <td>5.0</td>\n",
       "      <td>7</td>\n",
       "      <td>TX</td>\n",
       "      <td>US</td>\n",
       "      <td>Dana Wallace</td>\n",
       "      <td>TUSHY, Inc</td>\n",
       "      <td>10813 NW 30TH ST STE 115</td>\n",
       "      <td>NaN</td>\n",
       "      <td>DORAL</td>\n",
       "      <td>FL</td>\n",
       "      <td>331922147</td>\n",
       "      <td>US</td>\n",
       "      <td>0.0</td>\n",
       "      <td>0.0</td>\n",
       "      <td>9.80</td>\n",
       "      <td>1</td>\n",
       "      <td>Freight</td>\n",
       "      <td>9.80</td>\n",
       "      <td>0.00</td>\n",
       "      <td>0.0</td>\n",
       "      <td>0.0</td>\n",
       "      <td>0.0</td>\n",
       "      <td>0.0</td>\n",
       "      <td>0.0</td>\n",
       "      <td>0.0</td>\n",
       "    </tr>\n",
       "    <tr>\n",
       "      <th>1</th>\n",
       "      <td>33477</td>\n",
       "      <td>2025-03-20</td>\n",
       "      <td>576899052</td>\n",
       "      <td>#1442861</td>\n",
       "      <td>default</td>\n",
       "      <td>UPS</td>\n",
       "      <td>45699</td>\n",
       "      <td>1ZAC8375YW34252402</td>\n",
       "      <td>UPS SurePost - 1 lb or Greater</td>\n",
       "      <td>FUEL SURCHARGE</td>\n",
       "      <td>1.0</td>\n",
       "      <td>PKG</td>\n",
       "      <td>4.1</td>\n",
       "      <td>5.0</td>\n",
       "      <td>19.0</td>\n",
       "      <td>9.0</td>\n",
       "      <td>5.0</td>\n",
       "      <td>7</td>\n",
       "      <td>TX</td>\n",
       "      <td>US</td>\n",
       "      <td>Dana Wallace</td>\n",
       "      <td>TUSHY, Inc</td>\n",
       "      <td>10813 NW 30TH ST STE 115</td>\n",
       "      <td>NaN</td>\n",
       "      <td>DORAL</td>\n",
       "      <td>FL</td>\n",
       "      <td>331922147</td>\n",
       "      <td>US</td>\n",
       "      <td>0.0</td>\n",
       "      <td>0.0</td>\n",
       "      <td>1.23</td>\n",
       "      <td>2</td>\n",
       "      <td>Fuel</td>\n",
       "      <td>0.00</td>\n",
       "      <td>1.23</td>\n",
       "      <td>0.0</td>\n",
       "      <td>0.0</td>\n",
       "      <td>0.0</td>\n",
       "      <td>0.0</td>\n",
       "      <td>0.0</td>\n",
       "      <td>0.0</td>\n",
       "    </tr>\n",
       "    <tr>\n",
       "      <th>2</th>\n",
       "      <td>33477</td>\n",
       "      <td>2025-03-20</td>\n",
       "      <td>581683521</td>\n",
       "      <td>#1446209</td>\n",
       "      <td>default</td>\n",
       "      <td>UPS</td>\n",
       "      <td>45712</td>\n",
       "      <td>1ZAC8375YW14943702</td>\n",
       "      <td>UPS SurePost - 1 lb or Greater</td>\n",
       "      <td>TRANSPORTATION</td>\n",
       "      <td>1.0</td>\n",
       "      <td>PKG</td>\n",
       "      <td>2.1</td>\n",
       "      <td>3.0</td>\n",
       "      <td>18.0</td>\n",
       "      <td>10.0</td>\n",
       "      <td>4.0</td>\n",
       "      <td>7</td>\n",
       "      <td>TX</td>\n",
       "      <td>US</td>\n",
       "      <td>NaN</td>\n",
       "      <td>Jacob Vosper</td>\n",
       "      <td>22 DORLAND AVE</td>\n",
       "      <td>NaN</td>\n",
       "      <td>POUGHKEEPSIE</td>\n",
       "      <td>NY</td>\n",
       "      <td>126036404</td>\n",
       "      <td>US</td>\n",
       "      <td>0.0</td>\n",
       "      <td>0.0</td>\n",
       "      <td>8.90</td>\n",
       "      <td>3</td>\n",
       "      <td>Freight</td>\n",
       "      <td>8.90</td>\n",
       "      <td>0.00</td>\n",
       "      <td>0.0</td>\n",
       "      <td>0.0</td>\n",
       "      <td>0.0</td>\n",
       "      <td>0.0</td>\n",
       "      <td>0.0</td>\n",
       "      <td>0.0</td>\n",
       "    </tr>\n",
       "    <tr>\n",
       "      <th>3</th>\n",
       "      <td>33477</td>\n",
       "      <td>2025-03-20</td>\n",
       "      <td>581683521</td>\n",
       "      <td>#1446209</td>\n",
       "      <td>default</td>\n",
       "      <td>UPS</td>\n",
       "      <td>45712</td>\n",
       "      <td>1ZAC8375YW14943702</td>\n",
       "      <td>UPS SurePost - 1 lb or Greater</td>\n",
       "      <td>FUEL SURCHARGE</td>\n",
       "      <td>1.0</td>\n",
       "      <td>PKG</td>\n",
       "      <td>2.1</td>\n",
       "      <td>3.0</td>\n",
       "      <td>18.0</td>\n",
       "      <td>10.0</td>\n",
       "      <td>4.0</td>\n",
       "      <td>7</td>\n",
       "      <td>TX</td>\n",
       "      <td>US</td>\n",
       "      <td>NaN</td>\n",
       "      <td>Jacob Vosper</td>\n",
       "      <td>22 DORLAND AVE</td>\n",
       "      <td>NaN</td>\n",
       "      <td>POUGHKEEPSIE</td>\n",
       "      <td>NY</td>\n",
       "      <td>126036404</td>\n",
       "      <td>US</td>\n",
       "      <td>0.0</td>\n",
       "      <td>0.0</td>\n",
       "      <td>1.12</td>\n",
       "      <td>4</td>\n",
       "      <td>Fuel</td>\n",
       "      <td>0.00</td>\n",
       "      <td>1.12</td>\n",
       "      <td>0.0</td>\n",
       "      <td>0.0</td>\n",
       "      <td>0.0</td>\n",
       "      <td>0.0</td>\n",
       "      <td>0.0</td>\n",
       "      <td>0.0</td>\n",
       "    </tr>\n",
       "    <tr>\n",
       "      <th>4</th>\n",
       "      <td>33477</td>\n",
       "      <td>2025-03-20</td>\n",
       "      <td>582604555</td>\n",
       "      <td>#1446902</td>\n",
       "      <td>default</td>\n",
       "      <td>UPS</td>\n",
       "      <td>45714</td>\n",
       "      <td>1ZAC83750301909861</td>\n",
       "      <td>Ground Residential</td>\n",
       "      <td>TRANSPORTATION</td>\n",
       "      <td>1.0</td>\n",
       "      <td>PKG</td>\n",
       "      <td>0.1</td>\n",
       "      <td>18.0</td>\n",
       "      <td>23.0</td>\n",
       "      <td>21.0</td>\n",
       "      <td>8.0</td>\n",
       "      <td>7</td>\n",
       "      <td>TX</td>\n",
       "      <td>US</td>\n",
       "      <td>NaN</td>\n",
       "      <td>Alisha Sare</td>\n",
       "      <td>277 SANTA ROSA AVE</td>\n",
       "      <td>PUSH 3 ON THE HILAVATOR OR TAKE</td>\n",
       "      <td>SAUSALITO</td>\n",
       "      <td>CA</td>\n",
       "      <td>949652036</td>\n",
       "      <td>US</td>\n",
       "      <td>0.0</td>\n",
       "      <td>0.0</td>\n",
       "      <td>16.86</td>\n",
       "      <td>5</td>\n",
       "      <td>Freight</td>\n",
       "      <td>16.86</td>\n",
       "      <td>0.00</td>\n",
       "      <td>0.0</td>\n",
       "      <td>0.0</td>\n",
       "      <td>0.0</td>\n",
       "      <td>0.0</td>\n",
       "      <td>0.0</td>\n",
       "      <td>0.0</td>\n",
       "    </tr>\n",
       "  </tbody>\n",
       "</table>\n",
       "</div>"
      ],
      "text/plain": [
       "   Invoice Invoice Date   Order ID Order Number  Profile Carrier  \\\n",
       "0    33477   2025-03-20  576899052     #1442861  default     UPS   \n",
       "1    33477   2025-03-20  576899052     #1442861  default     UPS   \n",
       "2    33477   2025-03-20  581683521     #1446209  default     UPS   \n",
       "3    33477   2025-03-20  581683521     #1446209  default     UPS   \n",
       "4    33477   2025-03-20  582604555     #1446902  default     UPS   \n",
       "\n",
       "   Transaction Date     Tracking Number                    Service Type  \\\n",
       "0             45699  1ZAC8375YW34252402  UPS SurePost - 1 lb or Greater   \n",
       "1             45699  1ZAC8375YW34252402  UPS SurePost - 1 lb or Greater   \n",
       "2             45712  1ZAC8375YW14943702  UPS SurePost - 1 lb or Greater   \n",
       "3             45712  1ZAC8375YW14943702  UPS SurePost - 1 lb or Greater   \n",
       "4             45714  1ZAC83750301909861              Ground Residential   \n",
       "\n",
       "           Charge  Package Quantity Packaging Type  Entered Weight (LB)  \\\n",
       "0  TRANSPORTATION               1.0            PKG                  4.1   \n",
       "1  FUEL SURCHARGE               1.0            PKG                  4.1   \n",
       "2  TRANSPORTATION               1.0            PKG                  2.1   \n",
       "3  FUEL SURCHARGE               1.0            PKG                  2.1   \n",
       "4  TRANSPORTATION               1.0            PKG                  0.1   \n",
       "\n",
       "   Billed Weight (LB)  Dim Length  Dim Width  Dim Height Zone Origin State  \\\n",
       "0                 5.0        19.0        9.0         5.0    7           TX   \n",
       "1                 5.0        19.0        9.0         5.0    7           TX   \n",
       "2                 3.0        18.0       10.0         4.0    7           TX   \n",
       "3                 3.0        18.0       10.0         4.0    7           TX   \n",
       "4                18.0        23.0       21.0         8.0    7           TX   \n",
       "\n",
       "  Origin Country Receiver Name Receiver Company   Receiver Address Line 1  \\\n",
       "0             US  Dana Wallace       TUSHY, Inc  10813 NW 30TH ST STE 115   \n",
       "1             US  Dana Wallace       TUSHY, Inc  10813 NW 30TH ST STE 115   \n",
       "2             US           NaN     Jacob Vosper            22 DORLAND AVE   \n",
       "3             US           NaN     Jacob Vosper            22 DORLAND AVE   \n",
       "4             US           NaN      Alisha Sare        277 SANTA ROSA AVE   \n",
       "\n",
       "           Receiver Address Line 2 Receiver City Receiver State Receiver Zip  \\\n",
       "0                              NaN         DORAL             FL    331922147   \n",
       "1                              NaN         DORAL             FL    331922147   \n",
       "2                              NaN  POUGHKEEPSIE             NY    126036404   \n",
       "3                              NaN  POUGHKEEPSIE             NY    126036404   \n",
       "4  PUSH 3 ON THE HILAVATOR OR TAKE     SAUSALITO             CA    949652036   \n",
       "\n",
       "  Receiver Country  Customs Value  Duty & Taxes  Bill Amount  id      Map  \\\n",
       "0               US            0.0           0.0         9.80   1  Freight   \n",
       "1               US            0.0           0.0         1.23   2     Fuel   \n",
       "2               US            0.0           0.0         8.90   3  Freight   \n",
       "3               US            0.0           0.0         1.12   4     Fuel   \n",
       "4               US            0.0           0.0        16.86   5  Freight   \n",
       "\n",
       "   Freight  Fuel  Residential  Surcharge  Freight Adj  Fuel Adj  \\\n",
       "0     9.80  0.00          0.0        0.0          0.0       0.0   \n",
       "1     0.00  1.23          0.0        0.0          0.0       0.0   \n",
       "2     8.90  0.00          0.0        0.0          0.0       0.0   \n",
       "3     0.00  1.12          0.0        0.0          0.0       0.0   \n",
       "4    16.86  0.00          0.0        0.0          0.0       0.0   \n",
       "\n",
       "   Surcharge Adj  Duties/Tax  \n",
       "0            0.0         0.0  \n",
       "1            0.0         0.0  \n",
       "2            0.0         0.0  \n",
       "3            0.0         0.0  \n",
       "4            0.0         0.0  "
      ]
     },
     "execution_count": 182,
     "metadata": {},
     "output_type": "execute_result"
    }
   ],
   "source": [
    "invoice_Flatten.head()"
   ]
  },
  {
   "cell_type": "code",
   "execution_count": 183,
   "id": "9366711e",
   "metadata": {},
   "outputs": [
    {
     "data": {
      "text/plain": [
       "Index(['Invoice', 'Invoice Date', 'Order ID', 'Order Number', 'Profile',\n",
       "       'Carrier', 'Transaction Date', 'Tracking Number', 'Service Type',\n",
       "       'Charge', 'Package Quantity', 'Packaging Type', 'Entered Weight (LB)',\n",
       "       'Billed Weight (LB)', 'Dim Length', 'Dim Width', 'Dim Height', 'Zone',\n",
       "       'Origin State', 'Origin Country', 'Receiver Name', 'Receiver Company',\n",
       "       'Receiver Address Line 1', 'Receiver Address Line 2', 'Receiver City',\n",
       "       'Receiver State', 'Receiver Zip', 'Receiver Country', 'Customs Value',\n",
       "       'Duty & Taxes', 'Bill Amount', 'id', 'Map'],\n",
       "      dtype='object')"
      ]
     },
     "execution_count": 183,
     "metadata": {},
     "output_type": "execute_result"
    }
   ],
   "source": [
    "invoice_charge_df.columns"
   ]
  },
  {
   "cell_type": "code",
   "execution_count": 184,
   "id": "33303e26",
   "metadata": {},
   "outputs": [
    {
     "data": {
      "text/plain": [
       "Index(['Invoice', 'Invoice Date', 'Order ID', 'Order Number', 'Profile',\n",
       "       'Carrier', 'Transaction Date', 'Tracking Number', 'Service Type',\n",
       "       'Charge', 'Package Quantity', 'Packaging Type', 'Entered Weight (LB)',\n",
       "       'Billed Weight (LB)', 'Dim Length', 'Dim Width', 'Dim Height', 'Zone',\n",
       "       'Origin State', 'Origin Country', 'Receiver Name', 'Receiver Company',\n",
       "       'Receiver Address Line 1', 'Receiver Address Line 2', 'Receiver City',\n",
       "       'Receiver State', 'Receiver Zip', 'Receiver Country', 'Customs Value',\n",
       "       'Duty & Taxes', 'Bill Amount', 'id', 'Map', 'Freight', 'Fuel',\n",
       "       'Residential', 'Surcharge', 'Freight Adj', 'Fuel Adj', 'Surcharge Adj',\n",
       "       'Duties/Tax'],\n",
       "      dtype='object')"
      ]
     },
     "execution_count": 184,
     "metadata": {},
     "output_type": "execute_result"
    }
   ],
   "source": [
    "invoice_Flatten.columns"
   ]
  },
  {
   "cell_type": "code",
   "execution_count": 185,
   "id": "9ac44153",
   "metadata": {},
   "outputs": [
    {
     "data": {
      "text/plain": [
       "(6521, 41)"
      ]
     },
     "execution_count": 185,
     "metadata": {},
     "output_type": "execute_result"
    }
   ],
   "source": [
    "invoice_Flatten.shape"
   ]
  },
  {
   "cell_type": "code",
   "execution_count": 186,
   "id": "381c15d3",
   "metadata": {},
   "outputs": [
    {
     "data": {
      "text/plain": [
       "Invoice                       0\n",
       "Invoice Date                  0\n",
       "Order ID                      0\n",
       "Order Number                  0\n",
       "Profile                       0\n",
       "Carrier                       0\n",
       "Transaction Date              0\n",
       "Tracking Number               0\n",
       "Service Type                  0\n",
       "Charge                        0\n",
       "Package Quantity           3254\n",
       "Packaging Type             3456\n",
       "Entered Weight (LB)           0\n",
       "Billed Weight (LB)            0\n",
       "Dim Length                  204\n",
       "Dim Width                   204\n",
       "Dim Height                  204\n",
       "Zone                          0\n",
       "Origin State                  0\n",
       "Origin Country                0\n",
       "Receiver Name              5269\n",
       "Receiver Company           1152\n",
       "Receiver Address Line 1       0\n",
       "Receiver Address Line 2    5999\n",
       "Receiver City                 0\n",
       "Receiver State               11\n",
       "Receiver Zip                  0\n",
       "Receiver Country              0\n",
       "Customs Value              3456\n",
       "Duty & Taxes                  0\n",
       "Bill Amount                   0\n",
       "id                            0\n",
       "Map                           0\n",
       "Freight                       0\n",
       "Fuel                          0\n",
       "Residential                   0\n",
       "Surcharge                     0\n",
       "Freight Adj                   0\n",
       "Fuel Adj                      0\n",
       "Surcharge Adj                 0\n",
       "Duties/Tax                    0\n",
       "dtype: int64"
      ]
     },
     "execution_count": 186,
     "metadata": {},
     "output_type": "execute_result"
    }
   ],
   "source": [
    "invoice_Flatten.isna().sum()"
   ]
  },
  {
   "cell_type": "code",
   "execution_count": 187,
   "id": "8e735e7c",
   "metadata": {},
   "outputs": [],
   "source": [
    "#invoice_Flatten = invoice_Flatten[invoice_Flatten[['Dim Length', 'Dim Width', 'Dim Height']].notnull().any(axis=1)]\n",
    "invoice_Flatten = invoice_Flatten[invoice_Flatten[['Dim Length', 'Dim Width', 'Dim Height']].notnull().any(axis=1)]"
   ]
  },
  {
   "cell_type": "code",
   "execution_count": 188,
   "id": "c5c13bac",
   "metadata": {},
   "outputs": [
    {
     "data": {
      "text/plain": [
       "(6317, 41)"
      ]
     },
     "execution_count": 188,
     "metadata": {},
     "output_type": "execute_result"
    }
   ],
   "source": [
    "invoice_Flatten.shape"
   ]
  },
  {
   "cell_type": "code",
   "execution_count": 189,
   "id": "128e31b0",
   "metadata": {},
   "outputs": [],
   "source": [
    "grouped_df = invoice_Flatten.groupby(\n",
    "    ['Order Number', 'Tracking Number', 'Origin State', 'Transaction Date', 'Receiver Zip', 'Carrier', 'Service Type'],\n",
    "    as_index=False\n",
    ").agg({\n",
    "    'Freight': 'sum',\n",
    "    'Fuel': 'sum',\n",
    "    'Residential': 'sum',\n",
    "    'Surcharge': 'sum',\n",
    "    'Freight Adj': 'sum',\n",
    "    'Fuel Adj': 'sum',\n",
    "    'Surcharge Adj': 'sum',\n",
    "    'Duties/Tax': 'sum',\n",
    "    'Entered Weight (LB)': 'first',\n",
    "    'Billed Weight (LB)': 'first'\n",
    "})"
   ]
  },
  {
   "cell_type": "code",
   "execution_count": 190,
   "id": "6c6721d8",
   "metadata": {},
   "outputs": [
    {
     "data": {
      "text/plain": [
       "(2808, 17)"
      ]
     },
     "execution_count": 190,
     "metadata": {},
     "output_type": "execute_result"
    }
   ],
   "source": [
    "grouped_df.shape"
   ]
  },
  {
   "cell_type": "code",
   "execution_count": null,
   "id": "9ed50535",
   "metadata": {},
   "outputs": [],
   "source": [
    "grouped_df2 = invoice_Flatten.groupby(\n",
    "    ['Order Number', 'Origin State', 'Transaction Date', 'Receiver Zip', 'Carrier', 'Service Type'],\n",
    "    as_index=False\n",
    ").agg({\n",
    "    'Freight': 'sum',\n",
    "    'Fuel': 'sum',\n",
    "    'Residential': 'sum',\n",
    "    'Surcharge': 'sum',\n",
    "    'Freight Adj': 'sum',\n",
    "    'Fuel Adj': 'sum',\n",
    "    'Surcharge Adj': 'sum',\n",
    "    'Duties/Tax': 'sum',\n",
    "    'Entered Weight (LB)': 'first',\n",
    "    'Billed Weight (LB)': 'first'\n",
    "})"
   ]
  },
  {
   "cell_type": "code",
   "execution_count": null,
   "id": "d4737bbd",
   "metadata": {},
   "outputs": [],
   "source": [
    "2808 is any null"
   ]
  }
 ],
 "metadata": {
  "kernelspec": {
   "display_name": "Python 3",
   "language": "python",
   "name": "python3"
  },
  "language_info": {
   "codemirror_mode": {
    "name": "ipython",
    "version": 3
   },
   "file_extension": ".py",
   "mimetype": "text/x-python",
   "name": "python",
   "nbconvert_exporter": "python",
   "pygments_lexer": "ipython3",
   "version": "3.10.16"
  }
 },
 "nbformat": 4,
 "nbformat_minor": 5
}
